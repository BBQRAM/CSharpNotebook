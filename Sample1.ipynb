{
 "cells": [
  {
   "cell_type": "code",
   "execution_count": 4,
   "metadata": {},
   "outputs": [],
   "source": [
    "using System.Diagnostics;\n",
    "\n",
    "string[] field = new string[] {\n",
    "    \"Dies\", \n",
    "    \"ist\", \n",
    "    \"ein\", \n",
    "    \"Test\", \n",
    "    \"für\", \n",
    "    \"C#\", \n",
    "    \"in\" , \n",
    "    \"einem\", \n",
    "    \"Jupyter-Notebook\"};\n",
    "\n",
    "string output = \"\";\n",
    "for(int i=0; i<field.Length; i++) \n",
    "{\n",
    "    output += (field[i]+(i<field.Length-1?\" \":\".\"));\n",
    "    //-----------------------------------^ hier fehlt was;)\n",
    "}"
   ]
  },
  {
   "cell_type": "code",
   "execution_count": 5,
   "metadata": {},
   "outputs": [
    {
     "name": "stdout",
     "output_type": "stream",
     "text": [
      "Richtig!\r\n"
     ]
    }
   ],
   "source": [
    "Console.WriteLine(output.Equals(\"Dies ist ein Test für C# in einem Jupyter-Notebook.\")?\"Richtig!\":\"Ergebnis ist falsch!\");"
   ]
  },
  {
   "cell_type": "code",
   "execution_count": 6,
   "metadata": {},
   "outputs": [
    {
     "name": "stdout",
     "output_type": "stream",
     "text": [
      "a:\n",
      "{\n",
      "\tRadiobutton ,\n",
      "\tPicturebox\n",
      "}\r\n"
     ]
    }
   ],
   "source": [
    "struct Answerbox \n",
    "{\n",
    "    public string Radiobutton {get;set;}\n",
    "    public string Picturebox {get;set;}\n",
    "    public string Key{get; private set;}\n",
    "    \n",
    "    public Answerbox(string key, string radiobutton, string picturebox)\n",
    "    {\n",
    "        Key = key;\n",
    "        Radiobutton = radiobutton;\n",
    "        Picturebox = picturebox;\n",
    "    }\n",
    "    \n",
    "    public String ToString()\n",
    "    {\n",
    "        return String.Format(\"{0}:\\n{3}\\n\\t{1} ,\\n\\t{2}\\n{4}\", Key, Radiobutton, Picturebox,\"{\",\"}\");\n",
    "    }\n",
    "}\n",
    "\n",
    "Answerbox ab = new Answerbox(\"a\", \"Radiobutton\", \"Picturebox\");\n",
    "\n",
    "Console.WriteLine(ab.ToString());"
   ]
  },
  {
   "cell_type": "code",
   "execution_count": null,
   "metadata": {},
   "outputs": [],
   "source": []
  }
 ],
 "metadata": {
  "celltoolbar": "Tags",
  "kernelspec": {
   "display_name": ".NET (C#)",
   "language": "C#",
   "name": ".net-csharp"
  },
  "language_info": {
   "file_extension": ".cs",
   "mimetype": "text/x-csharp",
   "name": "C#",
   "pygments_lexer": "csharp",
   "version": "8.0"
  }
 },
 "nbformat": 4,
 "nbformat_minor": 4
}
